{
 "cells": [
  {
   "cell_type": "markdown",
   "metadata": {},
   "source": [
    "\n",
    "## Implementing Simple Vector Addition in Tensorflow\n",
    "---\n",
    "\n"
   ]
  },
  {
   "cell_type": "code",
   "execution_count": 5,
   "metadata": {
    "colab": {
     "base_uri": "https://localhost:8080/"
    },
    "id": "8EbmJ7bez9YM",
    "outputId": "2601fdbd-5319-4842-e61a-e163371bfafc"
   },
   "outputs": [
    {
     "name": "stdout",
     "output_type": "stream",
     "text": [
      "Result of Vector addition :  [15. 17. 19.]\n"
     ]
    }
   ],
   "source": [
    "import tensorflow as tf\n",
    "\n",
    "#Define twq vectors\n",
    "vector1 = tf.constant([11,12,13],dtype=tf.float32)\n",
    "vector2 = tf.constant([4,5,6],dtype=tf.float32)\n",
    "\n",
    "#Perform vector addition\n",
    "result = tf.add(vector1,vector2)\n",
    "\n",
    "#Print the result\n",
    "print(\"Result of Vector addition : \",result.numpy())"
   ]
  }
 ],
 "metadata": {
  "colab": {
   "authorship_tag": "ABX9TyNfAgD4ZtRo7T66N43+DeZA",
   "include_colab_link": true,
   "provenance": []
  },
  "kernelspec": {
   "display_name": "CNN-test",
   "language": "python",
   "name": "python3"
  },
  "language_info": {
   "codemirror_mode": {
    "name": "ipython",
    "version": 3
   },
   "file_extension": ".py",
   "mimetype": "text/x-python",
   "name": "python",
   "nbconvert_exporter": "python",
   "pygments_lexer": "ipython3",
   "version": "3.12.6"
  }
 },
 "nbformat": 4,
 "nbformat_minor": 0
}
