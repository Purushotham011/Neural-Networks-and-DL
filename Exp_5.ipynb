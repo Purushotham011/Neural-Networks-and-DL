{
  "nbformat": 4,
  "nbformat_minor": 0,
  "metadata": {
    "colab": {
      "provenance": [],
      "authorship_tag": "ABX9TyNfAgD4ZtRo7T66N43+DeZA",
      "include_colab_link": true
    },
    "kernelspec": {
      "name": "python3",
      "display_name": "Python 3"
    },
    "language_info": {
      "name": "python"
    }
  },
  "cells": [
    {
      "cell_type": "markdown",
      "metadata": {
        "id": "view-in-github",
        "colab_type": "text"
      },
      "source": [
        "<a href=\"https://colab.research.google.com/github/Purushotham011/Neural-Networks-and-DL/blob/main/Exp_5.ipynb\" target=\"_parent\"><img src=\"https://colab.research.google.com/assets/colab-badge.svg\" alt=\"Open In Colab\"/></a>"
      ]
    },
    {
      "cell_type": "code",
      "execution_count": null,
      "metadata": {
        "colab": {
          "base_uri": "https://localhost:8080/"
        },
        "id": "8EbmJ7bez9YM",
        "outputId": "2601fdbd-5319-4842-e61a-e163371bfafc"
      },
      "outputs": [
        {
          "output_type": "stream",
          "name": "stdout",
          "text": [
            "Result of Vector addition :  [15. 17. 19.]\n"
          ]
        }
      ],
      "source": [
        "import tensorflow as tf\n",
        "\n",
        "#Define twq vectors\n",
        "vector1 = tf.constant([11,12,13],dtype=tf.float32)\n",
        "vector2 = tf.constant([4,5,6],dtype=tf.float32)\n",
        "\n",
        "#Perform vector addition\n",
        "result = tf.add(vector1,vector2)\n",
        "\n",
        "#Print the result\n",
        "print(\"Result of Vector addition : \",result.numpy())"
      ]
    }
  ]
}