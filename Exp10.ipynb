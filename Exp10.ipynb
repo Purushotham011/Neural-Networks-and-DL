{
 "cells": [
  {
   "cell_type": "markdown",
   "metadata": {
    "id": "B-G0KGzGHDU1"
   },
   "source": [
    "## 1. Simulate the dataset"
   ]
  },
  {
   "cell_type": "code",
   "execution_count": 1,
   "metadata": {
    "id": "4kgB81ywHAwV"
   },
   "outputs": [
    {
     "name": "stderr",
     "output_type": "stream",
     "text": [
      "2024-11-10 23:32:55.216240: E external/local_xla/xla/stream_executor/cuda/cuda_fft.cc:485] Unable to register cuFFT factory: Attempting to register factory for plugin cuFFT when one has already been registered\n",
      "2024-11-10 23:32:55.231246: E external/local_xla/xla/stream_executor/cuda/cuda_dnn.cc:8454] Unable to register cuDNN factory: Attempting to register factory for plugin cuDNN when one has already been registered\n",
      "2024-11-10 23:32:55.236687: E external/local_xla/xla/stream_executor/cuda/cuda_blas.cc:1452] Unable to register cuBLAS factory: Attempting to register factory for plugin cuBLAS when one has already been registered\n",
      "2024-11-10 23:32:55.279895: I tensorflow/core/platform/cpu_feature_guard.cc:210] This TensorFlow binary is optimized to use available CPU instructions in performance-critical operations.\n",
      "To enable the following instructions: SSE4.1 SSE4.2 AVX AVX2 FMA, in other operations, rebuild TensorFlow with the appropriate compiler flags.\n"
     ]
    }
   ],
   "source": [
    "import numpy as np\n",
    "import cv2\n",
    "import random\n",
    "import tensorflow as tf\n",
    "from keras.utils import to_categorical\n",
    "import matplotlib.pyplot as plt"
   ]
  },
  {
   "cell_type": "code",
   "execution_count": 2,
   "metadata": {
    "id": "d9w0Y75xHWR-"
   },
   "outputs": [],
   "source": [
    "# Generate a synthetic image dataset with bounding boxes\n",
    "def generate_image(shape, img_size = 64):\n",
    "    img = np.ones((img_size, img_size, 3)) * 255\n",
    "    if shape == 'square':\n",
    "        size = random.randint(10, 30)\n",
    "        x1, y1 = random.randint(0, img_size - size), random.randint(0, img_size - size)\n",
    "        x2, y2 = x1 + size, y1 + size\n",
    "        cv2.rectangle(img, (x1, y1), (x2, y2), (0, 0, 0), -1)\n",
    "        label = [0,1]   # Square Class\n",
    "    elif shape == 'circle':\n",
    "        radius = random.randint(10, 30)\n",
    "        x, y = random.randint(radius, img_size - radius), random.randint(radius, img_size - radius)\n",
    "        cv2.circle(img, (x, y), radius, (0, 0, 0), -1)\n",
    "        x1, y1, x2, y2 = x - radius, y - radius, x + radius, y + radius\n",
    "        label = [0,1]   # Circle Class\n",
    "    return img/255.0, label, [x1/img_size, y1/img_size, x2/img_size, y2/img_size]   # Normalize bbox"
   ]
  },
  {
   "cell_type": "code",
   "execution_count": 3,
   "metadata": {
    "id": "LsM4s4uzI76U"
   },
   "outputs": [],
   "source": [
    "# Generate Dataset\n",
    "def generate_dataset(n_samples=1000, img_size = 64):\n",
    "    images = []\n",
    "    labels = []\n",
    "    bboxes = []\n",
    "    for _ in range(n_samples):\n",
    "        shape = random.choice(['square', 'circle'])\n",
    "        img, label, bbox = generate_image(shape, img_size)\n",
    "        images.append(img)\n",
    "        labels.append(label)\n",
    "        bboxes.append(bbox)\n",
    "    return np.array(images), np.array(labels), np.array(bboxes)"
   ]
  },
  {
   "cell_type": "code",
   "execution_count": 4,
   "metadata": {
    "colab": {
     "base_uri": "https://localhost:8080/"
    },
    "id": "PLFeEzSKLi53",
    "outputId": "c02e730f-c86d-4fc9-f04b-071c9826ffe8"
   },
   "outputs": [
    {
     "name": "stdout",
     "output_type": "stream",
     "text": [
      "Dataset Shape: (1000, 64, 64, 3) (1000, 2) (1000, 4)\n"
     ]
    }
   ],
   "source": [
    "# Generate dataset with 1000 samples\n",
    "X, y, bboxes = generate_dataset(n_samples=1000)\n",
    "print(\"Dataset Shape:\", X.shape, y.shape, bboxes.shape)"
   ]
  },
  {
   "cell_type": "code",
   "execution_count": 5,
   "metadata": {
    "colab": {
     "base_uri": "https://localhost:8080/",
     "height": 452
    },
    "id": "d5eJ5NsfOyGt",
    "outputId": "a72795da-3a40-41b8-fdd8-4d50ec728db6"
   },
   "outputs": [
    {
     "data": {
      "image/png": "[encoded data removed]",
      "text/plain": [
       "<Figure size 640x480 with 1 Axes>"
      ]
     },
     "metadata": {},
     "output_type": "display_data"
    }
   ],
   "source": [
    "# Display sample image\n",
    "plt.imshow(X[0])\n",
    "plt.title(f'Label: {y[0]} Bounding Box: {bboxes[0]}')\n",
    "plt.show()"
   ]
  }
 ],
 "metadata": {
  "colab": {
   "authorship_tag": "ABX9TyPRsGGPVMtG8qw67gyt4kNE",
   "include_colab_link": true,
   "provenance": []
  },
  "kernelspec": {
   "display_name": "CNN-test",
   "language": "python",
   "name": "python3"
  },
  "language_info": {
   "codemirror_mode": {
    "name": "ipython",
    "version": 3
   },
   "file_extension": ".py",
   "mimetype": "text/x-python",
   "name": "python",
   "nbconvert_exporter": "python",
   "pygments_lexer": "ipython3",
   "version": "3.12.6"
  }
 },
 "nbformat": 4,
 "nbformat_minor": 0
}
